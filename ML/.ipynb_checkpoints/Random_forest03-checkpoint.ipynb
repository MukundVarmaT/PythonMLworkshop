{
  "nbformat": 4,
  "nbformat_minor": 0,
  "metadata": {
    "kernelspec": {
      "display_name": "Python 3",
      "language": "python",
      "name": "python3"
    },
    "language_info": {
      "codemirror_mode": {
        "name": "ipython",
        "version": 3
      },
      "file_extension": ".py",
      "mimetype": "text/x-python",
      "name": "python",
      "nbconvert_exporter": "python",
      "pygments_lexer": "ipython3",
      "version": "3.7.3"
    },
    "colab": {
      "name": "Random_forest03-checkpoint.ipynb",
      "provenance": [],
      "include_colab_link": true
    }
  },
  "cells": [
    {
      "cell_type": "markdown",
      "metadata": {
        "id": "view-in-github",
        "colab_type": "text"
      },
      "source": [
        "<a href=\"https://colab.research.google.com/github/MukundVarmaT/PythonMLworkshop/blob/master/ML/.ipynb_checkpoints/Random_forest03-checkpoint.ipynb\" target=\"_parent\"><img src=\"https://colab.research.google.com/assets/colab-badge.svg\" alt=\"Open In Colab\"/></a>"
      ]
    },
    {
      "cell_type": "markdown",
      "metadata": {
        "id": "y8PNrSsV0vZ-",
        "colab_type": "text"
      },
      "source": [
        "# Random Forest \n"
      ]
    },
    {
      "cell_type": "markdown",
      "metadata": {
        "id": "kv6MeQNx0vaA",
        "colab_type": "text"
      },
      "source": [
        "Random forest is a type of supervised machine learning algorithm based on ensemble learning. \n",
        "Ensemble learning is a type of learning where you join different types of algorithms or same algorithm multiple times to form a more powerful prediction model. \n"
      ]
    },
    {
      "cell_type": "markdown",
      "metadata": {
        "id": "onWnB9BI0vaB",
        "colab_type": "text"
      },
      "source": [
        "The random forest algorithm combines multiple algorithm of the same type i.e. multiple decision trees, resulting in a forest of trees, hence the name \"Random Forest\". The random forest algorithm can be used for both regression and classification tasks."
      ]
    },
    {
      "cell_type": "markdown",
      "metadata": {
        "id": "Y8fHL0E20vaC",
        "colab_type": "text"
      },
      "source": [
        "### How the Random Forest Algorithm Works"
      ]
    },
    {
      "cell_type": "markdown",
      "metadata": {
        "id": "tngv9Uo80vaC",
        "colab_type": "text"
      },
      "source": [
        "\n",
        "The following are the basic steps involved in performing the random forest algorithm:\n",
        "\n",
        "    1) Pick N random records from the dataset.\n",
        "\n",
        "    2) Build a decision tree based on these N records.\n",
        "\n",
        "    3) Choose the number of trees you want in your algorithm and repeat steps 1 and 2.\n",
        "\n",
        "In case of a regression problem, for a new record, each tree in the forest predicts a value for Y (output). \n",
        "The final value can be calculated by taking the average of all the values predicted by all the trees in forest. \n",
        "\n",
        "Or, in case of a classification problem, each tree in the forest predicts the category to which the new record belongs. Finally, the new record is assigned to the category that wins the majority vote."
      ]
    },
    {
      "cell_type": "markdown",
      "metadata": {
        "id": "eDDaWHE_0vaD",
        "colab_type": "text"
      },
      "source": [
        "## Advantages of using Random Forest\n",
        "As with any algorithm, there are advantages and disadvantages to using it. In the next two sections we'll take a look at the pros and cons of using random forest for classification and regression."
      ]
    },
    {
      "cell_type": "markdown",
      "metadata": {
        "id": "sh-QzGS60vaE",
        "colab_type": "text"
      },
      "source": [
        "\n",
        "\n",
        "1) The random forest algorithm is not biased, since, there are multiple trees and each tree is trained on a subset of data. \n",
        "    \n",
        "    Basically, the random forest algorithm relies on the power of \"the crowd\"; therefore the overall biasedness of the             algorithm is reduced.\n",
        "\n",
        "2) This algorithm is very stable. Even if a new data point is introduced in the dataset the overall algorithm is not affected much since new data may impact one tree, but it is very hard for it to impact all the trees.\n",
        "\n",
        "3) The random forest algorithm works well when you have both categorical and numerical features.\n",
        "\n",
        "4) The random forest algorithm also works well when data has missing values or it has not been scaled well"
      ]
    },
    {
      "cell_type": "markdown",
      "metadata": {
        "id": "yn2N5nLF0vaE",
        "colab_type": "text"
      },
      "source": [
        "## Disadvantages of using Random Forest"
      ]
    },
    {
      "cell_type": "markdown",
      "metadata": {
        "id": "zAPcAGrK0vaF",
        "colab_type": "text"
      },
      "source": [
        "\n",
        "1) A major disadvantage of random forests lies in their complexity. They required much more computational resources, owing to the large number of decision trees joined together.\n",
        "\n",
        "2) Due to their complexity, they require much more time to train than other comparable algorithms"
      ]
    },
    {
      "cell_type": "markdown",
      "metadata": {
        "id": "95Rf7gwm0vaF",
        "colab_type": "text"
      },
      "source": [
        "#### Problem Definition\n",
        "The problem here is to predict the gas consumption (in millions of gallons) in 48 of the US states based on petrol tax (in cents), per capita income (dollars), paved highways (in miles) and the proportion of population with the driving license.\n",
        "\n",
        "#### Solution\n",
        "To solve this regression problem we will use the random forest algorithm via the Scikit-Learn Python library. We will follow the traditional machine learning pipeline to solve this problem."
      ]
    },
    {
      "cell_type": "code",
      "metadata": {
        "id": "eaobYfOG0vaG",
        "colab_type": "code",
        "colab": {}
      },
      "source": [
        "import pandas as pd\n",
        "import numpy as np"
      ],
      "execution_count": 0,
      "outputs": []
    },
    {
      "cell_type": "code",
      "metadata": {
        "id": "PIVhzgaG0vaI",
        "colab_type": "code",
        "colab": {}
      },
      "source": [
        "# import the dataset:\n",
        "dataset = pd.read_csv('https://raw.githubusercontent.com/MukundVarmaT/PythonMLworkshop/master/ML/petrol_consumption.csv')"
      ],
      "execution_count": 0,
      "outputs": []
    },
    {
      "cell_type": "code",
      "metadata": {
        "id": "rZYbvzC50vaL",
        "colab_type": "code",
        "colab": {
          "base_uri": "https://localhost:8080/",
          "height": 195
        },
        "outputId": "6b71d7d2-ab8b-481f-9a78-f5966028b88b"
      },
      "source": [
        "# To get a high-level view of what the dataset looks like, execute the following command:\n",
        "dataset.head()"
      ],
      "execution_count": 13,
      "outputs": [
        {
          "output_type": "execute_result",
          "data": {
            "text/html": [
              "<div>\n",
              "<style scoped>\n",
              "    .dataframe tbody tr th:only-of-type {\n",
              "        vertical-align: middle;\n",
              "    }\n",
              "\n",
              "    .dataframe tbody tr th {\n",
              "        vertical-align: top;\n",
              "    }\n",
              "\n",
              "    .dataframe thead th {\n",
              "        text-align: right;\n",
              "    }\n",
              "</style>\n",
              "<table border=\"1\" class=\"dataframe\">\n",
              "  <thead>\n",
              "    <tr style=\"text-align: right;\">\n",
              "      <th></th>\n",
              "      <th>Petrol_tax</th>\n",
              "      <th>Average_income</th>\n",
              "      <th>Paved_Highways</th>\n",
              "      <th>Population_Driver_licence(%)</th>\n",
              "      <th>Petrol_Consumption</th>\n",
              "    </tr>\n",
              "  </thead>\n",
              "  <tbody>\n",
              "    <tr>\n",
              "      <th>0</th>\n",
              "      <td>9.0</td>\n",
              "      <td>3571</td>\n",
              "      <td>1976</td>\n",
              "      <td>0.525</td>\n",
              "      <td>541</td>\n",
              "    </tr>\n",
              "    <tr>\n",
              "      <th>1</th>\n",
              "      <td>9.0</td>\n",
              "      <td>4092</td>\n",
              "      <td>1250</td>\n",
              "      <td>0.572</td>\n",
              "      <td>524</td>\n",
              "    </tr>\n",
              "    <tr>\n",
              "      <th>2</th>\n",
              "      <td>9.0</td>\n",
              "      <td>3865</td>\n",
              "      <td>1586</td>\n",
              "      <td>0.580</td>\n",
              "      <td>561</td>\n",
              "    </tr>\n",
              "    <tr>\n",
              "      <th>3</th>\n",
              "      <td>7.5</td>\n",
              "      <td>4870</td>\n",
              "      <td>2351</td>\n",
              "      <td>0.529</td>\n",
              "      <td>414</td>\n",
              "    </tr>\n",
              "    <tr>\n",
              "      <th>4</th>\n",
              "      <td>8.0</td>\n",
              "      <td>4399</td>\n",
              "      <td>431</td>\n",
              "      <td>0.544</td>\n",
              "      <td>410</td>\n",
              "    </tr>\n",
              "  </tbody>\n",
              "</table>\n",
              "</div>"
            ],
            "text/plain": [
              "   Petrol_tax  Average_income  ...  Population_Driver_licence(%)  Petrol_Consumption\n",
              "0         9.0            3571  ...                         0.525                 541\n",
              "1         9.0            4092  ...                         0.572                 524\n",
              "2         9.0            3865  ...                         0.580                 561\n",
              "3         7.5            4870  ...                         0.529                 414\n",
              "4         8.0            4399  ...                         0.544                 410\n",
              "\n",
              "[5 rows x 5 columns]"
            ]
          },
          "metadata": {
            "tags": []
          },
          "execution_count": 13
        }
      ]
    },
    {
      "cell_type": "markdown",
      "metadata": {
        "id": "4E229d6Y0vaN",
        "colab_type": "text"
      },
      "source": [
        "We can see that the values in our dataset are not very well scaled. We will scale them down before training the algorithm."
      ]
    },
    {
      "cell_type": "markdown",
      "metadata": {
        "id": "HXJXyK0q0vaO",
        "colab_type": "text"
      },
      "source": [
        "### Preparing Data For Training\n",
        "Two tasks will be performed in this section. The first task is to divide data into 'attributes' and 'label' sets. The resultant data is then divided into training and test sets.\n",
        "\n",
        "The following script divides data into attributes and labels:"
      ]
    },
    {
      "cell_type": "code",
      "metadata": {
        "id": "QIo2Co6d0vaO",
        "colab_type": "code",
        "colab": {}
      },
      "source": [
        "X = dataset.iloc[:, 0:4].values\n",
        "y = dataset.iloc[:, 4].values"
      ],
      "execution_count": 0,
      "outputs": []
    },
    {
      "cell_type": "code",
      "metadata": {
        "id": "CNSUkNkE0vaQ",
        "colab_type": "code",
        "colab": {}
      },
      "source": [
        "from sklearn.model_selection import train_test_split\n",
        "\n",
        "X_train, X_test, y_train, y_test = train_test_split(X, y, test_size=0.2, random_state=0)"
      ],
      "execution_count": 0,
      "outputs": []
    },
    {
      "cell_type": "markdown",
      "metadata": {
        "id": "prt9cqUq0vaR",
        "colab_type": "text"
      },
      "source": [
        "### Feature Scaling\n",
        "We know our dataset is not yet a scaled value, for instance the Average_Income field has values in the range of thousands while Petrol_tax has values in range of tens. \n",
        "\n",
        "Therefore, it would be beneficial to scale our data (although, as mentioned earlier, this step isn't as important for the random forests algorithm).\n",
        "\n",
        "To do so, we will use Scikit-Learn's StandardScaler class. Execute the following code to do so:"
      ]
    },
    {
      "cell_type": "code",
      "metadata": {
        "id": "JYbZyhnP0vaS",
        "colab_type": "code",
        "colab": {}
      },
      "source": [
        "# Feature Scaling\n",
        "from sklearn.preprocessing import StandardScaler\n",
        "\n",
        "sc = StandardScaler()\n",
        "X_train = sc.fit_transform(X_train)\n",
        "X_test = sc.transform(X_test)"
      ],
      "execution_count": 0,
      "outputs": []
    },
    {
      "cell_type": "markdown",
      "metadata": {
        "id": "M46n4Qbw0vaT",
        "colab_type": "text"
      },
      "source": [
        "Now that we have scaled our dataset, it is time to train our random forest algorithm to solve this regression problem. Execute the following code:\n"
      ]
    },
    {
      "cell_type": "code",
      "metadata": {
        "id": "IyOExqne0vaU",
        "colab_type": "code",
        "colab": {
          "base_uri": "https://localhost:8080/",
          "height": 202
        },
        "outputId": "bd26b482-4904-419a-8c9d-4218dfdc349c"
      },
      "source": [
        "\n",
        "from sklearn.ensemble import RandomForestRegressor\n",
        "\n",
        "regressor = RandomForestRegressor(n_estimators=20, random_state=0)\n",
        "regressor.fit(X_train, y_train)\n",
        "y_pred = regressor.predict(X_test)\n",
        "# print(y_pred,y_test)\n",
        "data = np.concatenate((y_pred,y_test))\n",
        "array2D = data.reshape((10,2))\n",
        "df = pd.DataFrame(array2D, columns = ['True Value', 'Model Predicted'])\n",
        "print(df)\n"
      ],
      "execution_count": 17,
      "outputs": [
        {
          "output_type": "stream",
          "text": [
            "   True Value  Model Predicted\n",
            "0      574.10           514.60\n",
            "1      604.80           589.75\n",
            "2      625.55           592.50\n",
            "3      594.90           573.30\n",
            "4      468.55           536.80\n",
            "5      534.00           410.00\n",
            "6      577.00           571.00\n",
            "7      577.00           704.00\n",
            "8      487.00           587.00\n",
            "9      467.00           580.00\n"
          ],
          "name": "stdout"
        }
      ]
    },
    {
      "cell_type": "markdown",
      "metadata": {
        "id": "g4ASSt3v0vaV",
        "colab_type": "text"
      },
      "source": [
        "The RandomForestRegressor class of the sklearn.ensemble library is used to solve regression problems via random forest.\n",
        "The most important parameter of the RandomForestRegressor class is the n_estimators parameter. \n",
        "\n",
        "This parameter defines the number of trees in the random forest. We will start with n_estimator=20 to see how our algorithm performs."
      ]
    },
    {
      "cell_type": "markdown",
      "metadata": {
        "id": "qpSzw9lD0vaW",
        "colab_type": "text"
      },
      "source": [
        "### Evaluating the Algorithm\n",
        "The last and final step of solving a machine learning problem is to evaluate the performance of the algorithm. For regression problems the metrics used to evaluate an algorithm are mean absolute error, mean squared error, and root mean squared error. Execute the following code to find these values:"
      ]
    },
    {
      "cell_type": "code",
      "metadata": {
        "id": "NwOdtORD0vaW",
        "colab_type": "code",
        "colab": {
          "base_uri": "https://localhost:8080/",
          "height": 67
        },
        "outputId": "7f2f9fa0-e5fa-4a70-eff7-093a84c6d92e"
      },
      "source": [
        "from sklearn import metrics\n",
        "print('Mean Absolute Error:', metrics.mean_absolute_error(y_test, y_pred))\n",
        "print('Mean Squared Error:', metrics.mean_squared_error(y_test, y_pred))\n",
        "print('Root Mean Squared Error:', np.sqrt(metrics.mean_squared_error(y_test, y_pred)))"
      ],
      "execution_count": 19,
      "outputs": [
        {
          "output_type": "stream",
          "text": [
            "Mean Absolute Error: 51.76500000000001\n",
            "Mean Squared Error: 4216.166749999999\n",
            "Root Mean Squared Error: 64.93201637097064\n"
          ],
          "name": "stdout"
        }
      ]
    },
    {
      "cell_type": "code",
      "metadata": {
        "id": "WB6WnJWu0vaY",
        "colab_type": "code",
        "colab": {}
      },
      "source": [
        ""
      ],
      "execution_count": 0,
      "outputs": []
    }
  ]
}